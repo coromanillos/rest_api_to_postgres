{
 "cells": [
  {
   "cell_type": "code",
   "execution_count": 3,
   "id": "aaa4d9cd-d4dd-4d98-96a7-1b9bc87103ae",
   "metadata": {},
   "outputs": [
    {
     "ename": "FileNotFoundError",
     "evalue": "[Errno 2] No such file or directory: 'config/config.yaml'",
     "output_type": "error",
     "traceback": [
      "\u001b[1;31m---------------------------------------------------------------------------\u001b[0m",
      "\u001b[1;31mFileNotFoundError\u001b[0m                         Traceback (most recent call last)",
      "Cell \u001b[1;32mIn[3], line 17\u001b[0m\n\u001b[0;32m     14\u001b[0m \u001b[38;5;28;01mfrom\u001b[39;00m \u001b[38;5;21;01mdotenv\u001b[39;00m \u001b[38;5;28;01mimport\u001b[39;00m load_dotenv\n\u001b[0;32m     16\u001b[0m \u001b[38;5;66;03m# Load configuration from config.yaml\u001b[39;00m\n\u001b[1;32m---> 17\u001b[0m \u001b[38;5;28;01mwith\u001b[39;00m \u001b[38;5;28;43mopen\u001b[39;49m\u001b[43m(\u001b[49m\u001b[38;5;124;43m'\u001b[39;49m\u001b[38;5;124;43mconfig/config.yaml\u001b[39;49m\u001b[38;5;124;43m'\u001b[39;49m\u001b[43m,\u001b[49m\u001b[43m \u001b[49m\u001b[38;5;124;43m'\u001b[39;49m\u001b[38;5;124;43mr\u001b[39;49m\u001b[38;5;124;43m'\u001b[39;49m\u001b[43m)\u001b[49m \u001b[38;5;28;01mas\u001b[39;00m file:\n\u001b[0;32m     18\u001b[0m \tconfig \u001b[38;5;241m=\u001b[39m yaml\u001b[38;5;241m.\u001b[39msafe_load(file)\n\u001b[0;32m     20\u001b[0m \u001b[38;5;66;03m# Load API key from .env to a variable\u001b[39;00m\n",
      "File \u001b[1;32m~\\AppData\\Roaming\\Python\\Python311\\site-packages\\IPython\\core\\interactiveshell.py:324\u001b[0m, in \u001b[0;36m_modified_open\u001b[1;34m(file, *args, **kwargs)\u001b[0m\n\u001b[0;32m    317\u001b[0m \u001b[38;5;28;01mif\u001b[39;00m file \u001b[38;5;129;01min\u001b[39;00m {\u001b[38;5;241m0\u001b[39m, \u001b[38;5;241m1\u001b[39m, \u001b[38;5;241m2\u001b[39m}:\n\u001b[0;32m    318\u001b[0m     \u001b[38;5;28;01mraise\u001b[39;00m \u001b[38;5;167;01mValueError\u001b[39;00m(\n\u001b[0;32m    319\u001b[0m         \u001b[38;5;124mf\u001b[39m\u001b[38;5;124m\"\u001b[39m\u001b[38;5;124mIPython won\u001b[39m\u001b[38;5;124m'\u001b[39m\u001b[38;5;124mt let you open fd=\u001b[39m\u001b[38;5;132;01m{\u001b[39;00mfile\u001b[38;5;132;01m}\u001b[39;00m\u001b[38;5;124m by default \u001b[39m\u001b[38;5;124m\"\u001b[39m\n\u001b[0;32m    320\u001b[0m         \u001b[38;5;124m\"\u001b[39m\u001b[38;5;124mas it is likely to crash IPython. If you know what you are doing, \u001b[39m\u001b[38;5;124m\"\u001b[39m\n\u001b[0;32m    321\u001b[0m         \u001b[38;5;124m\"\u001b[39m\u001b[38;5;124myou can use builtins\u001b[39m\u001b[38;5;124m'\u001b[39m\u001b[38;5;124m open.\u001b[39m\u001b[38;5;124m\"\u001b[39m\n\u001b[0;32m    322\u001b[0m     )\n\u001b[1;32m--> 324\u001b[0m \u001b[38;5;28;01mreturn\u001b[39;00m \u001b[43mio_open\u001b[49m\u001b[43m(\u001b[49m\u001b[43mfile\u001b[49m\u001b[43m,\u001b[49m\u001b[43m \u001b[49m\u001b[38;5;241;43m*\u001b[39;49m\u001b[43margs\u001b[49m\u001b[43m,\u001b[49m\u001b[43m \u001b[49m\u001b[38;5;241;43m*\u001b[39;49m\u001b[38;5;241;43m*\u001b[39;49m\u001b[43mkwargs\u001b[49m\u001b[43m)\u001b[49m\n",
      "\u001b[1;31mFileNotFoundError\u001b[0m: [Errno 2] No such file or directory: 'config/config.yaml'"
     ]
    }
   ],
   "source": [
    " ##############################################\n",
    " # Title: Alpha Vantage Balance Sheet Extract\n",
    " # Author: Christopher Romanillos\n",
    " # Description: Extract data from Alpha Vantage\n",
    " # \trest API\n",
    " # Date: 10/24/24\n",
    " # Version: 1.0\n",
    " ##############################################\n",
    "\n",
    "import requests\n",
    "import json\n",
    "import os\n",
    "import yaml\n",
    "from dotenv import load_dotenv\n",
    "\n",
    "# Load configuration from config.yaml\n",
    "with open('../config/config.yaml', 'r') as file:\n",
    "\tconfig = yaml.safe_load(file)\n",
    "\n",
    "# Load API key from .env to a variable\n",
    "load_dotenv()\n",
    "api_key = os.getenv('API_KEY')\n",
    "\n",
    "# Load API URL and Timeout from config.yaml to a variable\n",
    "api_endpoint = config['api']['endpoint']\n",
    "timeout_value = config['api']['timeout']\n",
    "\n",
    "# Construct the full URL \n",
    "url = f\"{api_endpoint}?function=BALANCE_SHEET&symbol=IBM&apikey={api_key}\"\n",
    "\n",
    "try:\n",
    "\t# Send the GET request with a timeout\n",
    "\tresponse = requests.get(url, timeout = timeout_value)\n",
    "\n",
    "\t# Raise an exception for HTTP errors\n",
    "\tresponse.raise_for_status()\n",
    "\n",
    "\t# Convert JSON from API into Python Dictionary\n",
    "\tdata = response.json()\n",
    "\n",
    "\t# Pretty print the data\n",
    "\tprint(json.dumps(data, indent=4))\n",
    "\n",
    "except requests.exceptions.Timeout:\n",
    "\tprint(f\"Request timed out after {timeout_value} seconds.\")\n",
    "except requests.exceptions.ConnectionError:\n",
    "\tprint(f\"A connection error occurred. Check network connection.\")\n",
    "except requests.exceptions.HTTPError as http_err:\n",
    "\tprint(f\"HTTP error occurred: {http_err}\")\n",
    "except requests.exceptions.RequestException as err:\n",
    "\tprint(f\"An unexpected error occurred: {err}\") "
   ]
  },
  {
   "cell_type": "code",
   "execution_count": null,
   "id": "5ef79a80-7b6e-41c7-b90d-697319aef8c1",
   "metadata": {},
   "outputs": [],
   "source": []
  }
 ],
 "metadata": {
  "kernelspec": {
   "display_name": "Python 3 (ipykernel)",
   "language": "python",
   "name": "python3"
  },
  "language_info": {
   "codemirror_mode": {
    "name": "ipython",
    "version": 3
   },
   "file_extension": ".py",
   "mimetype": "text/x-python",
   "name": "python",
   "nbconvert_exporter": "python",
   "pygments_lexer": "ipython3",
   "version": "3.11.1"
  }
 },
 "nbformat": 4,
 "nbformat_minor": 5
}
