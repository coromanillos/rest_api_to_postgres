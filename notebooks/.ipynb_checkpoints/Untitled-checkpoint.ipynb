{
 "cells": [
  {
   "cell_type": "code",
   "execution_count": null,
   "id": "76462636-f8ac-4f1f-913c-6a2a601219d0",
   "metadata": {},
   "outputs": [],
   "source": [
    " ##############################################\n",
    " # Title: Alpha Vantage Time Series Intraday Extract\n",
    " # Author: Christopher Romanillos\n",
    " # Description: Extract data from Alpha Vantage\n",
    " # \trest API\n",
    " # Date: 10/27/24\n",
    " # Version: 1.0\n",
    " ##############################################\n",
    "\n",
    "import requests\n",
    "import json\n",
    "import yaml\n",
    "from dotenv import load_dotenv\n",
    "\n",
    "# Load configuration from config.yaml...\n",
    "with open('../config/config.yaml', 'r') as file:\n",
    "    config = yaml.safe_load(file)\n",
    "\n",
    "load_dotenv()\n",
    "api_key = os.getenv('API_KEY')\n",
    "\n",
    "api_endpoint = config['api']['endpoint']\n",
    "timeout_value = config['api']['timeout']\n",
    "\n",
    "url = f\"{api_endpoint}?function=TIME_SERIES_INTRADAY&symbol=IBM&interval=5min&adjusted=false&apikey={api_key}\"\n",
    "\n",
    "try:\n",
    "\t# Send the GET request with a timeout\n",
    "\tresponse = requests.get(url, timeout = timeout_value)\n",
    "\n",
    "\t# Raise an exception for HTTP errors\n",
    "\tresponse.raise_for_status()\n",
    "\n",
    "\t# Convert JSON from API into Python Dictionary\n",
    "\tdata = response.json()\n",
    "\n",
    "\t# Pretty print the data\n",
    "\tprint(json.dumps(data, indent=4))\n",
    "\n",
    "except requests.exceptions.Timeout:\n",
    "\tprint(f\"Request timed out after {timeout_value} seconds.\")\n",
    "except requests.exceptions.ConnectionError:\n",
    "\tprint(f\"A connection error occurred. Check network connection.\")\n",
    "except requests.exceptions.HTTPError as http_err:\n",
    "\tprint(f\"HTTP error occurred: {http_err}\")\n",
    "except requests.exceptions.RequestException as err:\n",
    "\tprint(f\"An unexpected error occurred: {err}\") "
   ]
  }
 ],
 "metadata": {
  "kernelspec": {
   "display_name": "Python 3 (ipykernel)",
   "language": "python",
   "name": "python3"
  },
  "language_info": {
   "codemirror_mode": {
    "name": "ipython",
    "version": 3
   },
   "file_extension": ".py",
   "mimetype": "text/x-python",
   "name": "python",
   "nbconvert_exporter": "python",
   "pygments_lexer": "ipython3",
   "version": "3.11.1"
  }
 },
 "nbformat": 4,
 "nbformat_minor": 5
}
